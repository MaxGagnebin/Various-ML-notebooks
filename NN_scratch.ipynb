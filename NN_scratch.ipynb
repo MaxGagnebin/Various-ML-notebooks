{
 "cells": [
  {
   "cell_type": "markdown",
   "metadata": {},
   "source": [
    "# Neural Net from Scratch\n",
    "An example of a Neural Net from scrath. After the usual imports, we define our neural net and then test it on a basic example. This neural net uses a sigmoid at every stage (even the last one)."
   ]
  },
  {
   "cell_type": "code",
   "execution_count": 4,
   "metadata": {},
   "outputs": [],
   "source": [
    "import numpy as np\n",
    "from matplotlib import pyplot as plt\n",
    "from pylab import *\n",
    "import random\n",
    "import time\n",
    "import sys\n",
    "from multiprocessing import Process, Queue\n",
    "%matplotlib inline\n"
   ]
  },
  {
   "cell_type": "code",
   "execution_count": 5,
   "metadata": {},
   "outputs": [],
   "source": [
    "def sigmoid(x):\n",
    "    return 1.0 / (1.0 + np.exp(-x))\n",
    "\n",
    "def tanh(x):\n",
    "    return np.tanh(x)\n",
    "#    return 1.72*np.tanh(2.0*x/3)\n",
    "\n",
    "def identity(x):\n",
    "    return x\n",
    "\n",
    "def relu(x):\n",
    "    rellu = lambda x: x if x>0 else 0\n",
    "    return np.array([rellu(xi) for xi in x])\n",
    "\n",
    "def chainDiff(v,f):\n",
    "    if f == sigmoid:\n",
    "        return v*(1.0 - v)\n",
    "    elif f == relu:\n",
    "        return 1 if v>0 else 0\n",
    "    elif f == tanh:\n",
    "        return 1-v**2\n",
    "#        return 2.0/3*(1.72-v**2/1.72)\n",
    "    else:\n",
    "        return 1"
   ]
  },
  {
   "cell_type": "code",
   "execution_count": 7,
   "metadata": {},
   "outputs": [],
   "source": [
    "'''\n",
    "Class NeuralNel\n",
    "\n",
    "arguments: nbrNeurons is a list specifying the number of neurons in each layer, \n",
    "           eg: [2,2,3] is a NN with inputs of length 2, one hidden layer with 2 nodes,\n",
    "               and outputs of length 3.\n",
    "            activations is a list of functions wich are the activation functions on each layer\n",
    "            eg: [sigmoid, identity] applies a sigmoid on the first level and nothing on the second\n",
    "            \n",
    "further improvements could be to allow [lambda x: x] and other directly defined functions when\n",
    "creating the NN.\n",
    "\n",
    "'''\n",
    "\n",
    "class NeuralNet:\n",
    "    \n",
    "    def __init__(self, nbrNeurons, activations = None, weights = None, biases = None):\n",
    "        \n",
    "        if activations == None:\n",
    "            self.activations = [sigmoid for _ in range(nbrNeurons)-1]\n",
    "        else:\n",
    "            self.activations = activations\n",
    "            \n",
    "        self.nbrNeurons = nbrNeurons\n",
    "        self.nbrOutputs = nbrNeurons[-1]\n",
    "        self.nbrLayers = len(nbrNeurons)-1\n",
    "        \n",
    "        '''self.neurons = [ [layer,neuron] for layer in range(len(nbrNeurons)) \n",
    "                                        for neuron in range(nbrNeurons[layer])]\n",
    "        self.edges = [[layer, n_arrive, n_depart] for layer in range(self.nbrLayers) \n",
    "                                                  for n_arrive in range(self.nbrNeurons[layer+1])\n",
    "                                                  for n_depart in range(self.nbrNeurons[layer]) ]\n",
    "        '''\n",
    "        if weights == None:\n",
    "        # initial weigths set as random numbers in (0,1)\n",
    "            self.weights = []\n",
    "            for i in range(self.nbrLayers):\n",
    "                self.weights.append(np.random.rand(self.nbrNeurons[i+1], self.nbrNeurons[i]))\n",
    "        else:\n",
    "            self.weights = weights\n",
    "                \n",
    "        if biases == None:\n",
    "            self.biases = []\n",
    "            for i in range(self.nbrLayers):\n",
    "                self.biases.append(np.random.rand(self.nbrNeurons[i+1]))\n",
    "        else:\n",
    "            self.biases = biases\n",
    "    \n",
    "    def show_neurons(self):\n",
    "        print(self.neurons)\n",
    "        \n",
    "    def show_weights(self):\n",
    "        for layer in range(self.nbrLayers):\n",
    "            print(self.weights[layer])\n",
    "            print(self.biases[layer])\n",
    "        \n",
    "    def predict(self, x):\n",
    "        if len(x) != self.nbrNeurons[0] :\n",
    "            print(\"Wrong size of input !\")\n",
    "        else:\n",
    "            for i in range(self.nbrLayers):\n",
    "                x = self.activations[i](np.dot(self.weights[i],x) + self.biases[i])\n",
    "            return x\n",
    "    \n",
    "    def error(self, X, Y):\n",
    "        err = 0\n",
    "        for i in range(len(X)):\n",
    "            pred = self.predict(X[i])\n",
    "            err += np.linalg.norm(pred-Y[i])\n",
    "        return err / len(X)\n",
    "            \n",
    "            \n",
    "    def train(self, X, Y, step = 1, epoch = 1):\n",
    "        for _ in range(epoch):\n",
    "            order = list(range(len(X)))\n",
    "            np.random.shuffle(order)\n",
    "            '''\n",
    "            with Pool(5) as p:\n",
    "                A = ([X[order[i],Y[i]] for i in range())\n",
    "                X = p.starmap(self.train_once, A)\n",
    "            '''    \n",
    "            for i in order:\n",
    "                self.train_once(X[i], Y[i], step = step)\n",
    "    \n",
    "    def train_once(self, x, y, step = 1):\n",
    "        \"\"\"\n",
    "        training on 1 entry\n",
    "        this updates the weights of the model according to the step size and the gradient \n",
    "        of the neural net at the error = NN(x)-y\n",
    "        \"\"\"\n",
    "        if len(x) != self.nbrNeurons[0] or len(y)!= self.nbrNeurons[-1]:\n",
    "            print(\"Wrong size of x or y !\")\n",
    "        else:\n",
    "            values = []\n",
    "            values.append(np.array(x, dtype=float))\n",
    "            for i in range(self.nbrLayers):\n",
    "                x = self.activations[i](np.dot(self.weights[i],x) + self.biases[i])\n",
    "                values.append(x)\n",
    "            pred = x[-1]\n",
    "            \n",
    "            # initialize influence at zero because the first layer of neurons doesn't have\n",
    "            # influences (this is mainly to keep indices consistent)\n",
    "            influence = [0]\n",
    "            \n",
    "            #selection du neurone \n",
    "            for layer in range(1,self.nbrLayers+1):\n",
    "                infl_layer = []\n",
    "                \n",
    "                for neuron in range(self.nbrNeurons[layer]):\n",
    "                    infl_neuron = []\n",
    "                    \n",
    "                    #selection de l'arete\n",
    "                    for k in range(layer):\n",
    "                        infl = np.zeros([self.nbrNeurons[k+1],self.nbrNeurons[k]])\n",
    "                        # i boucle sur les neurones d'arrivee et j sur ceux de depart.\n",
    "                        for (i,j) in [(i,j) for i in range(self.nbrNeurons[k+1]) \n",
    "                                            for j in range(self.nbrNeurons[k])]:\n",
    "                            \n",
    "                            # Cas a separer pour avoir une activation differente sur \n",
    "                            # certaine couche.\n",
    "                            if layer-k == 1:\n",
    "                                if i != neuron:\n",
    "                                    infl[i,j] = 0\n",
    "                                else:\n",
    "                                    #chainDiff(v)\n",
    "                                    v = values[layer][neuron]\n",
    "                                    infl[i,j] = chainDiff(v, self.activations[layer-1])*values[k][j]\n",
    "                            else:\n",
    "                                # if the edge is too far, we use the chain rule\n",
    "                                v = values[layer][neuron]\n",
    "                                w = np.array([influence[layer-1][n][k][i,j] for n in range(self.nbrNeurons[layer-1])])\n",
    "                                infl[i,j] = chainDiff(v, self.activations[layer-1])*np.dot(self.weights[layer-1][neuron,:], w)\n",
    "                                \n",
    "                        infl_neuron.append(infl)\n",
    "\n",
    "                    #fin de selection d'arete\n",
    "                    infl_layer.append(infl_neuron)\n",
    "                influence.append(infl_layer)\n",
    "            \n",
    "            influence_B = [0]\n",
    "            \n",
    "            #selection du neurone \n",
    "            for layer in range(1,self.nbrLayers+1):\n",
    "                infl_layer = []\n",
    "                \n",
    "                for neuron in range(self.nbrNeurons[layer]):\n",
    "                    infl_neuron = []\n",
    "                    \n",
    "                    #selection du B\n",
    "                    for k in range(layer):\n",
    "                        infl = np.zeros(self.nbrNeurons[k+1])\n",
    "                        \n",
    "                        # i boucle sur les neurones d'arrivee du B.\n",
    "                        for i in range(self.nbrNeurons[k+1]):\n",
    "                            \n",
    "                            if layer-k == 1:\n",
    "                                if i != neuron:\n",
    "                                    infl[i] = 0\n",
    "                                else:\n",
    "                                    #chainDiff(v)\n",
    "                                    v = values[layer][neuron]\n",
    "                                    infl[i] = chainDiff(v, self.activations[layer-1])\n",
    "                            else:\n",
    "                                # if the edge is too far, we use the chain rule\n",
    "                                v = values[layer][neuron]\n",
    "                                w = np.array([influence_B[layer-1][n][k][i] for n in range(self.nbrNeurons[layer-1])])\n",
    "                                infl[i] = chainDiff(v, self.activations[layer-1])*np.dot(self.weights[layer-1][neuron,:], w)\n",
    "                        infl_neuron.append(infl)\n",
    "\n",
    "                    #fin de selection d'arete\n",
    "                    infl_layer.append(infl_neuron)\n",
    "                influence_B.append(infl_layer)\n",
    "\n",
    "\n",
    "            # use the gradients to calculate the new weights\n",
    "            delta_weights = []\n",
    "            delta_biases = []\n",
    "            for layer in range(self.nbrLayers):\n",
    "                delta_biases.append(step * influence_B[-1][0][layer]*(pred - y))\n",
    "                delta_weights.append(step * influence[-1][0][layer]*(pred - y))\n",
    "                \n",
    "            for layer in range(self.nbrLayers):\n",
    "                self.biases[layer] -= delta_biases[layer]\n",
    "                self.weights[layer] -= delta_weights[layer]\n",
    "            \n",
    "            return delta_weights, delta_biases\n"
   ]
  },
  {
   "cell_type": "code",
   "execution_count": 8,
   "metadata": {},
   "outputs": [],
   "source": [
    "#creation du neural net\n",
    "NN = NeuralNet([2,3,1], [sigmoid, tanh])"
   ]
  },
  {
   "cell_type": "code",
   "execution_count": 9,
   "metadata": {},
   "outputs": [
    {
     "data": {
      "text/plain": [
       "array([ 0.94907315])"
      ]
     },
     "execution_count": 9,
     "metadata": {},
     "output_type": "execute_result"
    }
   ],
   "source": [
    "NN.predict([2,1])"
   ]
  },
  {
   "cell_type": "code",
   "execution_count": 10,
   "metadata": {},
   "outputs": [
    {
     "data": {
      "text/plain": [
       "1.0910290260701021"
      ]
     },
     "execution_count": 10,
     "metadata": {},
     "output_type": "execute_result"
    }
   ],
   "source": [
    "#nos données test avec l'erreur du neural net\n",
    "X = np.array([ [0,0],[0,1],[-3,2],[-3,-3],[2,-3],[5,-4],[2,0],[-5,3],[0,5],[5,5],[5,3],[7,0],[8,2],[10,-3]])\n",
    "#Y = np.array([ [0]  ,[0]  ,[0]   ,[0]    ,[0]   ,[0]   ,[0]  ,[0]   ,[1]  ,[1]  ,[1]  ,[1]  ,[1]  ,[1]  ])\n",
    "Y = np.array([ [-1] ,[-1] ,[-1]  ,[-1]   ,[-1]  ,[-1]  ,[-1] ,[-1]   ,[1]  ,[1]  ,[1]  ,[1]  ,[1]  ,[1]  ])\n",
    "NN.error(X,Y)"
   ]
  },
  {
   "cell_type": "code",
   "execution_count": 11,
   "metadata": {},
   "outputs": [
    {
     "data": {
      "text/plain": [
       "0.87635309731880773"
      ]
     },
     "execution_count": 11,
     "metadata": {},
     "output_type": "execute_result"
    }
   ],
   "source": [
    "#premier round d'entrainement\n",
    "NN.train(X,Y)\n",
    "NN.error(X,Y)"
   ]
  },
  {
   "cell_type": "code",
   "execution_count": 12,
   "metadata": {},
   "outputs": [
    {
     "data": {
      "text/plain": [
       "0.025161307460455491"
      ]
     },
     "execution_count": 12,
     "metadata": {},
     "output_type": "execute_result"
    }
   ],
   "source": [
    "# plus de round d'entrainement\n",
    "NN.train(X,Y, step=0.1, epoch=500)\n",
    "NN.error(X,Y)"
   ]
  },
  {
   "cell_type": "code",
   "execution_count": 13,
   "metadata": {},
   "outputs": [
    {
     "data": {
      "text/plain": [
       "0.015435875365113302"
      ]
     },
     "execution_count": 13,
     "metadata": {},
     "output_type": "execute_result"
    }
   ],
   "source": [
    "#c'est beaucoup mieux, reposons des donnees test\n",
    "X_test = np.array([ [-1,-1],[0,-1],[-4,0],[-3,-1],[1,5],[4,4],[9,2],[6,1]])\n",
    "#Y_test = np.array([ [0]    ,[0]   ,[0]   ,[0]    ,[1]  ,[1]  ,[1]  ,[1]  ])\n",
    "Y_test = np.array([ [-1]    ,[-1]   ,[-1]   ,[-1]    ,[1]  ,[1]  ,[1]  ,[1]  ])\n",
    "NN.error(X_test,Y_test)\n"
   ]
  },
  {
   "cell_type": "markdown",
   "metadata": {},
   "source": [
    "On voit que l'erreur sur le test set est similaire à l'erreur sur le train set, donc pas trop d'overfit. De plus, l'erreur est bien plus basse qu'avant trainning. Peut-on entrainer le modèle plus longtemps?"
   ]
  },
  {
   "cell_type": "code",
   "execution_count": 103,
   "metadata": {},
   "outputs": [
    {
     "data": {
      "text/plain": [
       "0.0020915678647154745"
      ]
     },
     "execution_count": 103,
     "metadata": {},
     "output_type": "execute_result"
    }
   ],
   "source": [
    "# plus de round d'entrainement\n",
    "NN.train(X,Y, step=0.1,epoch=10000)\n",
    "NN.error(X,Y)"
   ]
  },
  {
   "cell_type": "code",
   "execution_count": 10,
   "metadata": {},
   "outputs": [
    {
     "data": {
      "text/plain": [
       "0.0019912093697984547"
      ]
     },
     "execution_count": 10,
     "metadata": {},
     "output_type": "execute_result"
    }
   ],
   "source": [
    "# overfit ??\n",
    "NN.error(X_test,Y_test)"
   ]
  },
  {
   "cell_type": "markdown",
   "metadata": {},
   "source": [
    "Wow, toujours pas d'overfit!"
   ]
  },
  {
   "cell_type": "code",
   "execution_count": 13,
   "metadata": {},
   "outputs": [
    {
     "name": "stdout",
     "output_type": "stream",
     "text": [
      "126.22336888313293\n",
      "0.0552125390997\n",
      "0.0732500537504\n"
     ]
    },
    {
     "data": {
      "image/png": "[encoded data removed]",
      "text/plain": [
       "<matplotlib.figure.Figure at 0x7f0ea17ec390>"
      ]
     },
     "metadata": {},
     "output_type": "display_data"
    }
   ],
   "source": [
    "# More complicated test \n",
    "# lets define a function and say: above = 1, under = 0\n",
    "def courbe(x):\n",
    "    return 2*np.sin(2*x)\n",
    "\n",
    "'''\n",
    "X=np.linspace(-5,5,100)\n",
    "Y=courbe(X)\n",
    "plt.plot(X,Y)\n",
    "plt.show()\n",
    "'''\n",
    "nbrPoints = 600\n",
    "    \n",
    "#creation du train and test set\n",
    "X_train = 10*np.random.rand(nbrPoints,2)-5\n",
    "X_test = 10*np.random.rand(nbrPoints,2)-5\n",
    "\n",
    "f = lambda x: 1 if x[1]>courbe(x[0]) else 0\n",
    "Y_train = np.array([[f(x)] for x in X_train])\n",
    "Y_test  = np.array([[f(x)] for x in X_test])\n",
    "\n",
    "for i in range(nbrPoints):\n",
    "    color=\"r\"\n",
    "    if Y_train[i]==1:\n",
    "        color=\"b\"\n",
    "    plt.scatter(X_train[i,0],X_train[i,1], s=20,color = color)\n",
    "    \n",
    "    \n",
    "#creation du neural net\n",
    "NN = NeuralNet([2,10,1], activations = [sigmoid, sigmoid], weights = NNweights, biases = NNbiases)\n",
    "\n",
    "startTime = time.time()\n",
    "NN.train(X_train,Y_train, step=0.5,epoch=500)\n",
    "endTime = time.time()\n",
    "\n",
    "print(endTime - startTime)\n",
    "\n",
    "NNbiases = NN.biases\n",
    "NNweights = NN.weights\n",
    "print(NN.error(X_train,Y_train))\n",
    "print(NN.error(X_test,Y_test))"
   ]
  },
  {
   "cell_type": "code",
   "execution_count": 14,
   "metadata": {},
   "outputs": [
    {
     "data": {
      "image/png": "[encoded data removed]",
      "text/plain": [
       "<matplotlib.figure.Figure at 0x7f0eaa835860>"
      ]
     },
     "metadata": {},
     "output_type": "display_data"
    }
   ],
   "source": [
    "nbrSpots = 500\n",
    "phi_m = np.linspace(-5, 5, nbrSpots)\n",
    "phi_p = np.linspace(-5, 5, nbrSpots)\n",
    "X,Y = np.meshgrid(phi_p, phi_m)\n",
    "Z=np.zeros([nbrSpots,nbrSpots])\n",
    "for i in range(nbrSpots):\n",
    "    for j in range(nbrSpots):\n",
    "        Z[j,i] = NN.predict([phi_m[i],phi_p[j]])\n",
    "        \n",
    "fig, ax = plt.subplots()\n",
    "\n",
    "p = ax.pcolor(X, Y, Z, cmap=cm.RdBu, vmin=abs(Z).min(), vmax=abs(Z).max())\n",
    "cb = fig.colorbar(p)"
   ]
  },
  {
   "cell_type": "code",
   "execution_count": 91,
   "metadata": {},
   "outputs": [
    {
     "name": "stdout",
     "output_type": "stream",
     "text": [
      "[(-0.5758066333301306, 4), (-1.5136049906158564, 3)]\n",
      "(1.8185948536513634, 2)\n",
      "0.0010313987731933594\n"
     ]
    }
   ],
   "source": [
    "# More complicated test \n",
    "# lets define a function and say: above = 1, under = 0\n",
    "\n",
    "from multiprocessing import Pool\n",
    "\n",
    "def courbe(x,y):\n",
    "    return 2*np.sin(2*x), y\n",
    "\n",
    "with Pool(5) as p:\n",
    "    X = p.starmap(courbe, [(8,4),(2,3)])\n",
    "\n",
    "print(X)\n",
    "startTime = time.time()\n",
    "res = []\n",
    "for i in range(7):\n",
    "    res.append(courbe(i,2))\n",
    "print(res[1])\n",
    "endTime = time.time()\n",
    "\n",
    "print(endTime - startTime)\n"
   ]
  },
  {
   "cell_type": "code",
   "execution_count": 52,
   "metadata": {},
   "outputs": [
    {
     "data": {
      "text/plain": [
       "[array([  1.68433228,  28.58524243, -13.74025668,  17.91628909,\n",
       "         13.03645404,  19.53530872,  -4.97127594, -11.86363178,\n",
       "        -12.67799085, -10.96090392]), array([ 34.46581975])]"
      ]
     },
     "execution_count": 52,
     "metadata": {},
     "output_type": "execute_result"
    }
   ],
   "source": [
    "NNbiases"
   ]
  },
  {
   "cell_type": "code",
   "execution_count": 51,
   "metadata": {},
   "outputs": [
    {
     "ename": "AttributeError",
     "evalue": "'list' object has no attribute 'shape'",
     "output_type": "error",
     "traceback": [
      "\u001b[0;31m---------------------------------------------------------------------------\u001b[0m",
      "\u001b[0;31mAttributeError\u001b[0m                            Traceback (most recent call last)",
      "\u001b[0;32m<ipython-input-51-1a4c89301e58>\u001b[0m in \u001b[0;36m<module>\u001b[0;34m()\u001b[0m\n\u001b[0;32m----> 1\u001b[0;31m \u001b[0mNNbiases\u001b[0m\u001b[0;34m.\u001b[0m\u001b[0mshape\u001b[0m\u001b[0;34m(\u001b[0m\u001b[0;34m)\u001b[0m\u001b[0;34m\u001b[0m\u001b[0m\n\u001b[0m",
      "\u001b[0;31mAttributeError\u001b[0m: 'list' object has no attribute 'shape'"
     ]
    }
   ],
   "source": [
    "NNbiases.shape()"
   ]
  },
  {
   "cell_type": "code",
   "execution_count": null,
   "metadata": {},
   "outputs": [],
   "source": []
  }
 ],
 "metadata": {
  "kernelspec": {
   "display_name": "Python 3",
   "language": "python",
   "name": "python3"
  },
  "language_info": {
   "codemirror_mode": {
    "name": "ipython",
    "version": 3
   },
   "file_extension": ".py",
   "mimetype": "text/x-python",
   "name": "python",
   "nbconvert_exporter": "python",
   "pygments_lexer": "ipython3",
   "version": "3.5.5"
  }
 },
 "nbformat": 4,
 "nbformat_minor": 2
}
