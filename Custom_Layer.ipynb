{
 "cells": [
  {
   "cell_type": "code",
   "execution_count": 2,
   "metadata": {},
   "outputs": [
    {
     "name": "stderr",
     "output_type": "stream",
     "text": [
      "Using TensorFlow backend.\n"
     ]
    }
   ],
   "source": [
    "from keras.engine.topology import Layer\n",
    "from keras.layers import *\n",
    "from keras.models import *\n",
    " \n",
    "import numpy as np\n",
    "from numpy import random"
   ]
  },
  {
   "cell_type": "code",
   "execution_count": 3,
   "metadata": {},
   "outputs": [],
   "source": [
    "class MyMult(Layer):\n",
    "    def __init__(self, **kwargs): #initiate the layer\n",
    "        super().__init__(**kwargs)\n",
    " \n",
    "    def build(self, input_shape):\n",
    "        self.H_init = np.random.rand(2,2)\n",
    "        self.H = K.variable(self.H_init, name=\"H\")\n",
    "        self.trainable_weights = [self.H]\n",
    "        \n",
    "        super().build(input_shape)\n",
    "        \n",
    " \n",
    "    def call(self, x):\n",
    "        return K.dot(x, self.H)\n",
    " \n",
    "    def compute_output_shape(self, input_shape):\n",
    "        return (None, 3, 2)\n",
    "        #return (input_shape[0], self.output_dim)"
   ]
  },
  {
   "cell_type": "code",
   "execution_count": 4,
   "metadata": {},
   "outputs": [
    {
     "name": "stdout",
     "output_type": "stream",
     "text": [
      "(?, 3, 2)\n",
      "<class 'tensorflow.python.framework.ops.Tensor'>\n",
      "(?, 3, 2)\n",
      "_________________________________________________________________\n",
      "Layer (type)                 Output Shape              Param #   \n",
      "=================================================================\n",
      "input_1 (InputLayer)         (None, 3, 2)              0         \n",
      "_________________________________________________________________\n",
      "my_mult_1 (MyMult)           (None, 3, 2)              4         \n",
      "=================================================================\n",
      "Total params: 4\n",
      "Trainable params: 4\n",
      "Non-trainable params: 0\n",
      "_________________________________________________________________\n",
      "[[[0.9507358  1.8873113 ]\n",
      "  [1.1265078  1.0352095 ]\n",
      "  [4.0666013  6.2710924 ]]\n",
      "\n",
      " [[0.4753679  0.94365567]\n",
      "  [0.5632539  0.51760477]\n",
      "  [5.280995   6.880251  ]]\n",
      "\n",
      " [[4.7536793  9.436557  ]\n",
      "  [5.632539   5.176048  ]\n",
      "  [0.         0.        ]]]\n"
     ]
    }
   ],
   "source": [
    "\n",
    "inp = Input(shape=(3,2))\n",
    "print(inp.shape)\n",
    "out = MyMult()(inp)\n",
    "print(type(out))\n",
    "print(out.shape)\n",
    "\n",
    "\n",
    "model = Model(inp,out)\n",
    "model.summary()\n",
    "\n",
    "\n",
    "data1 = np.array([[2,0],[0,2],[5,3]])\n",
    "data2 = np.array([[1,0],[0,1],[4,6]])\n",
    "data3 = np.array([[10,0],[0,10],[0,0]])\n",
    "\n",
    "data = np.array([data1,data2,data3])\n",
    "print(model.predict(data))"
   ]
  },
  {
   "cell_type": "code",
   "execution_count": 5,
   "metadata": {},
   "outputs": [
    {
     "name": "stdout",
     "output_type": "stream",
     "text": [
      "_________________________________________________________________\n",
      "Layer (type)                 Output Shape              Param #   \n",
      "=================================================================\n",
      "input_2 (InputLayer)         (None, 3, 2)              0         \n",
      "_________________________________________________________________\n",
      "my_mult_2 (MyMult)           (None, 3, 2)              4         \n",
      "=================================================================\n",
      "Total params: 4\n",
      "Trainable params: 4\n",
      "Non-trainable params: 0\n",
      "_________________________________________________________________\n",
      "Epoch 1/1\n",
      "3/3 [==============================] - 0s 19ms/step - loss: 15.5892\n"
     ]
    },
    {
     "data": {
      "text/plain": [
       "<keras.callbacks.History at 0x7efda8599cc0>"
      ]
     },
     "execution_count": 5,
     "metadata": {},
     "output_type": "execute_result"
    }
   ],
   "source": [
    "data1 = np.array([[2,0],[0,2],[5,3]])\n",
    "data2 = np.array([[1,0],[0,1],[4,6]])\n",
    "data3 = np.array([[10,0],[0,10],[0,0]])\n",
    "\n",
    "target1 = np.array([[1,0],[2,0],[0,0]])\n",
    "target2 = np.array([[2,0],[2,0],[0,0]])\n",
    "target3 = np.array([[3,0],[2,0],[0,0]])\n",
    "\n",
    "x_train = np.array([data1,data2,data3])\n",
    "y_train = np.array([target1,target2,target3])\n",
    "\n",
    "inp = Input(shape=(3,2))\n",
    "out = MyMult()(inp)\n",
    "\n",
    "\n",
    "model = Model(inp,out)\n",
    "model.compile(loss='mean_squared_error', optimizer='sgd')\n",
    "model.summary()\n",
    "\n",
    "model.fit(x_train,y_train)\n"
   ]
  },
  {
   "cell_type": "code",
   "execution_count": null,
   "metadata": {},
   "outputs": [],
   "source": []
  },
  {
   "cell_type": "code",
   "execution_count": null,
   "metadata": {},
   "outputs": [],
   "source": []
  },
  {
   "cell_type": "code",
   "execution_count": null,
   "metadata": {},
   "outputs": [],
   "source": []
  }
 ],
 "metadata": {
  "kernelspec": {
   "display_name": "Python 3",
   "language": "python",
   "name": "python3"
  },
  "language_info": {
   "codemirror_mode": {
    "name": "ipython",
    "version": 3
   },
   "file_extension": ".py",
   "mimetype": "text/x-python",
   "name": "python",
   "nbconvert_exporter": "python",
   "pygments_lexer": "ipython3",
   "version": "3.5.5"
  }
 },
 "nbformat": 4,
 "nbformat_minor": 2
}
